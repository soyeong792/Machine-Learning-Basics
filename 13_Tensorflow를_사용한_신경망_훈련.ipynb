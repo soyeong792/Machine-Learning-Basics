{
  "nbformat": 4,
  "nbformat_minor": 0,
  "metadata": {
    "colab": {
      "name": "13.Tensorflow를 사용한 신경망 훈련.ipynb",
      "provenance": [],
      "collapsed_sections": [],
      "toc_visible": true,
      "authorship_tag": "ABX9TyPIXqi7o36/aie6C8naPSHU",
      "include_colab_link": true
    },
    "kernelspec": {
      "name": "python3",
      "display_name": "Python 3"
    },
    "language_info": {
      "name": "python"
    }
  },
  "cells": [
    {
      "cell_type": "markdown",
      "metadata": {
        "id": "view-in-github",
        "colab_type": "text"
      },
      "source": [
        "<a href=\"https://colab.research.google.com/github/soyeong792/Machine-Learning-Basics/blob/main/13_Tensorflow%EB%A5%BC_%EC%82%AC%EC%9A%A9%ED%95%9C_%EC%8B%A0%EA%B2%BD%EB%A7%9D_%ED%9B%88%EB%A0%A8.ipynb\" target=\"_parent\"><img src=\"https://colab.research.google.com/assets/colab-badge.svg\" alt=\"Open In Colab\"/></a>"
      ]
    },
    {
      "cell_type": "markdown",
      "source": [
        "References:\n",
        "\n",
        "https://colab.research.google.com/github/rickiepark/\n",
        "python-machine-learning-book-3rd-edition/blob/master/ch13/ch13_part1.ipynb\n",
        "https://colab.research.google.com/github/rickiepark/python-machine-learning-book-3rd-edition/blob/master/ch13/ch13_part2.ipynb"
      ],
      "metadata": {
        "id": "1PNckQe9kESb"
      }
    },
    {
      "cell_type": "markdown",
      "source": [
        "## Tensorflow 처음 시작하기"
      ],
      "metadata": {
        "id": "mUOP-aW3kR1S"
      }
    },
    {
      "cell_type": "code",
      "execution_count": 1,
      "metadata": {
        "colab": {
          "base_uri": "https://localhost:8080/"
        },
        "id": "pwMy4LN9j2RX",
        "outputId": "18a31005-85d3-4f23-bc08-e82e11a70290"
      },
      "outputs": [
        {
          "output_type": "stream",
          "name": "stdout",
          "text": [
            "텐서플로 버전: 2.7.0\n"
          ]
        }
      ],
      "source": [
        "import tensorflow as tf\n",
        "import numpy as np\n",
        "\n",
        "print(\"텐서플로 버전:\", tf.__version__)"
      ]
    },
    {
      "cell_type": "markdown",
      "source": [
        "## 텐서 만들기\n",
        "\n",
        "- array to tensor"
      ],
      "metadata": {
        "id": "t7JUo2zSnZ0y"
      }
    },
    {
      "cell_type": "code",
      "source": [
        "a = np.array([1,2,3], dtype=np.int32)\n",
        "b = [4,5,6]\n",
        "\n",
        "#-------------------------------\n",
        "t_a = tf.convert_to_tensor(a)\n",
        "t_b = tf.convert_to_tensor(b)\n",
        "#-------------------------------\n",
        "\n",
        "print(t_a)\n",
        "print(t_b)"
      ],
      "metadata": {
        "colab": {
          "base_uri": "https://localhost:8080/"
        },
        "id": "W0PxMRNjnbPY",
        "outputId": "50e8ac1b-0a2e-4bc8-8245-ed22ec87403f"
      },
      "execution_count": 3,
      "outputs": [
        {
          "output_type": "stream",
          "name": "stdout",
          "text": [
            "tf.Tensor([1 2 3], shape=(3,), dtype=int32)\n",
            "tf.Tensor([4 5 6], shape=(3,), dtype=int32)\n"
          ]
        }
      ]
    },
    {
      "cell_type": "markdown",
      "source": [
        "- ones"
      ],
      "metadata": {
        "id": "rO4Gfpsun6FP"
      }
    },
    {
      "cell_type": "code",
      "source": [
        "t_ones = tf.ones((2,3)) #shape\n",
        "t_ones"
      ],
      "metadata": {
        "colab": {
          "base_uri": "https://localhost:8080/"
        },
        "id": "K8FHjI_onojp",
        "outputId": "24452d81-4fc0-4d63-f5fd-7a9d882e5b6c"
      },
      "execution_count": 4,
      "outputs": [
        {
          "output_type": "execute_result",
          "data": {
            "text/plain": [
              "<tf.Tensor: shape=(2, 3), dtype=float32, numpy=\n",
              "array([[1., 1., 1.],\n",
              "       [1., 1., 1.]], dtype=float32)>"
            ]
          },
          "metadata": {},
          "execution_count": 4
        }
      ]
    },
    {
      "cell_type": "markdown",
      "source": [
        "- tf.fill 함수는 원하는 스칼라 값으로 채워진 텐서를 만듦"
      ],
      "metadata": {
        "id": "A4BIAvmUoOAb"
      }
    },
    {
      "cell_type": "code",
      "source": [
        "tf.fill((2,3),1)"
      ],
      "metadata": {
        "colab": {
          "base_uri": "https://localhost:8080/"
        },
        "id": "yoTZyP3soIQw",
        "outputId": "499943ac-0738-46ca-c108-7dda981fb124"
      },
      "execution_count": 5,
      "outputs": [
        {
          "output_type": "execute_result",
          "data": {
            "text/plain": [
              "<tf.Tensor: shape=(2, 3), dtype=int32, numpy=\n",
              "array([[1, 1, 1],\n",
              "       [1, 1, 1]], dtype=int32)>"
            ]
          },
          "metadata": {},
          "execution_count": 5
        }
      ]
    },
    {
      "cell_type": "code",
      "source": [
        ""
      ],
      "metadata": {
        "id": "uJEYNMtYoS44"
      },
      "execution_count": null,
      "outputs": []
    }
  ]
}