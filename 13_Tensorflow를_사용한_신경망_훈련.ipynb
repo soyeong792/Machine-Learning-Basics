{
  "nbformat": 4,
  "nbformat_minor": 0,
  "metadata": {
    "colab": {
      "name": "13.Tensorflow를 사용한 신경망 훈련.ipynb",
      "provenance": [],
      "collapsed_sections": [],
      "toc_visible": true,
      "authorship_tag": "ABX9TyMmW1zSlWDainZ3hde3y1PC",
      "include_colab_link": true
    },
    "kernelspec": {
      "name": "python3",
      "display_name": "Python 3"
    },
    "language_info": {
      "name": "python"
    }
  },
  "cells": [
    {
      "cell_type": "markdown",
      "metadata": {
        "id": "view-in-github",
        "colab_type": "text"
      },
      "source": [
        "<a href=\"https://colab.research.google.com/github/soyeong792/Machine-Learning-Basics/blob/main/13_Tensorflow%EB%A5%BC_%EC%82%AC%EC%9A%A9%ED%95%9C_%EC%8B%A0%EA%B2%BD%EB%A7%9D_%ED%9B%88%EB%A0%A8.ipynb\" target=\"_parent\"><img src=\"https://colab.research.google.com/assets/colab-badge.svg\" alt=\"Open In Colab\"/></a>"
      ]
    },
    {
      "cell_type": "markdown",
      "source": [
        "References:\n",
        "\n",
        "https://colab.research.google.com/github/rickiepark/\n",
        "python-machine-learning-book-3rd-edition/blob/master/ch13/ch13_part1.ipynb\n",
        "https://colab.research.google.com/github/rickiepark/python-machine-learning-book-3rd-edition/blob/master/ch13/ch13_part2.ipynb"
      ],
      "metadata": {
        "id": "1PNckQe9kESb"
      }
    },
    {
      "cell_type": "markdown",
      "source": [
        "## Tensorflow 처음 시작하기"
      ],
      "metadata": {
        "id": "mUOP-aW3kR1S"
      }
    },
    {
      "cell_type": "code",
      "execution_count": 1,
      "metadata": {
        "colab": {
          "base_uri": "https://localhost:8080/"
        },
        "id": "pwMy4LN9j2RX",
        "outputId": "18a31005-85d3-4f23-bc08-e82e11a70290"
      },
      "outputs": [
        {
          "output_type": "stream",
          "name": "stdout",
          "text": [
            "텐서플로 버전: 2.7.0\n"
          ]
        }
      ],
      "source": [
        "import tensorflow as tf\n",
        "import numpy as np\n",
        "\n",
        "print(\"텐서플로 버전:\", tf.__version__)"
      ]
    },
    {
      "cell_type": "markdown",
      "source": [
        "## 텐서 만들기\n",
        "\n",
        "- array to tensor"
      ],
      "metadata": {
        "id": "t7JUo2zSnZ0y"
      }
    },
    {
      "cell_type": "code",
      "source": [
        "a = np.array([1,2,3], dtype=np.int32)\n",
        "b = [4,5,6]\n",
        "\n",
        "#-------------------------------\n",
        "t_a = tf.convert_to_tensor(a)\n",
        "t_b = tf.convert_to_tensor(b)\n",
        "#-------------------------------\n",
        "\n",
        "print(t_a)\n",
        "print(t_b)"
      ],
      "metadata": {
        "colab": {
          "base_uri": "https://localhost:8080/"
        },
        "id": "W0PxMRNjnbPY",
        "outputId": "50e8ac1b-0a2e-4bc8-8245-ed22ec87403f"
      },
      "execution_count": 3,
      "outputs": [
        {
          "output_type": "stream",
          "name": "stdout",
          "text": [
            "tf.Tensor([1 2 3], shape=(3,), dtype=int32)\n",
            "tf.Tensor([4 5 6], shape=(3,), dtype=int32)\n"
          ]
        }
      ]
    },
    {
      "cell_type": "markdown",
      "source": [
        "- ones"
      ],
      "metadata": {
        "id": "rO4Gfpsun6FP"
      }
    },
    {
      "cell_type": "code",
      "source": [
        "t_ones = tf.ones((2,3)) #shape\n",
        "t_ones"
      ],
      "metadata": {
        "colab": {
          "base_uri": "https://localhost:8080/"
        },
        "id": "K8FHjI_onojp",
        "outputId": "24452d81-4fc0-4d63-f5fd-7a9d882e5b6c"
      },
      "execution_count": 4,
      "outputs": [
        {
          "output_type": "execute_result",
          "data": {
            "text/plain": [
              "<tf.Tensor: shape=(2, 3), dtype=float32, numpy=\n",
              "array([[1., 1., 1.],\n",
              "       [1., 1., 1.]], dtype=float32)>"
            ]
          },
          "metadata": {},
          "execution_count": 4
        }
      ]
    },
    {
      "cell_type": "markdown",
      "source": [
        "- tf.fill 함수는 원하는 스칼라 값으로 채워진 텐서를 만듦"
      ],
      "metadata": {
        "id": "A4BIAvmUoOAb"
      }
    },
    {
      "cell_type": "code",
      "source": [
        "tf.fill((2,3),1)"
      ],
      "metadata": {
        "colab": {
          "base_uri": "https://localhost:8080/"
        },
        "id": "yoTZyP3soIQw",
        "outputId": "499943ac-0738-46ca-c108-7dda981fb124"
      },
      "execution_count": 5,
      "outputs": [
        {
          "output_type": "execute_result",
          "data": {
            "text/plain": [
              "<tf.Tensor: shape=(2, 3), dtype=int32, numpy=\n",
              "array([[1, 1, 1],\n",
              "       [1, 1, 1]], dtype=int32)>"
            ]
          },
          "metadata": {},
          "execution_count": 5
        }
      ]
    },
    {
      "cell_type": "markdown",
      "source": [
        "- tf.one_hot"
      ],
      "metadata": {
        "id": "JtKNY_nIokeQ"
      }
    },
    {
      "cell_type": "code",
      "source": [
        "tf.one_hot([0,1,2],4)"
      ],
      "metadata": {
        "colab": {
          "base_uri": "https://localhost:8080/"
        },
        "id": "uJEYNMtYoS44",
        "outputId": "728a49e7-5dad-4ff4-a0cf-83f9b0893b49"
      },
      "execution_count": 6,
      "outputs": [
        {
          "output_type": "execute_result",
          "data": {
            "text/plain": [
              "<tf.Tensor: shape=(3, 4), dtype=float32, numpy=\n",
              "array([[1., 0., 0., 0.],\n",
              "       [0., 1., 0., 0.],\n",
              "       [0., 0., 1., 0.]], dtype=float32)>"
            ]
          },
          "metadata": {},
          "execution_count": 6
        }
      ]
    },
    {
      "cell_type": "markdown",
      "source": [
        "## 텐서의 수학 연산\n",
        "- `tf.multiply`, `tf.math.reduce_mean`, `tf.linalg.matmul`,`tf.norm` 함수"
      ],
      "metadata": {
        "id": "RUVWL-Gcqdo-"
      }
    },
    {
      "cell_type": "code",
      "source": [
        "tf.random.set_seed(1)\n",
        "\n",
        "t1 = tf.random.uniform(shape=(5,2), minval=-1.0, maxval=1.0)\n",
        "t2 = tf.random.normal(shape=(5,2), mean=0.0, stddev=1.0)\n",
        "\n",
        "t3 = tf.multiply(t1,t2).numpy()\n",
        "print(t3)\n",
        "\n",
        "t4 = tf.math.reduce_mean(t1,axis=0)\n",
        "print(t4)\n",
        "\n",
        "t5 = tf.linalg.matmul(t1,t2,transpose_b=True).numpy() #b가 transpose 됨.\n",
        "t5_1 = t1 @ tf.transpose(t2) # @과 matmul은 같음.\n",
        "print(t5)\n",
        "print(t5_1) #same as t5\n",
        "\n",
        "t6 = tf.linalg.matmul(t1,t2,transpose_a=True).numpy() #a가 transpose 됨.\n",
        "print(t6)\n",
        "\n",
        "t7 = tf.norm(t1, ord=2, axis=1).numpy()\n",
        "print(t7)"
      ],
      "metadata": {
        "id": "Mw-_KfvXoo_B"
      },
      "execution_count": null,
      "outputs": []
    },
    {
      "cell_type": "markdown",
      "source": [
        "- `tf.experimental.numpy` 모듈 아래에서 넘파이 호환 API를 사용할 수 있다."
      ],
      "metadata": {
        "id": "wztfmpt0u5Ep"
      }
    },
    {
      "cell_type": "code",
      "source": [
        "import tensorflow.experimental.numpy as tnp\n",
        "tnp.experimental_enable_numpy_behavior()\n",
        "\n",
        "tn1 = tnp.array(t1)\n",
        "tn2 = tnp.array(t2)\n",
        "print(tnp.dot(tn1, tn2.T)) #np.dot"
      ],
      "metadata": {
        "colab": {
          "base_uri": "https://localhost:8080/"
        },
        "id": "R6pXmtQpsari",
        "outputId": "6e9aba97-c268-4f70-e0c1-295f49232573"
      },
      "execution_count": 25,
      "outputs": [
        {
          "output_type": "stream",
          "name": "stdout",
          "text": [
            "tf.Tensor(\n",
            "[[-1.1436033   1.1154624  -0.8695717  -0.3210435   0.8555103 ]\n",
            " [ 0.2480186  -0.19149339  0.2504958  -0.0644026  -0.3307204 ]\n",
            " [-0.47782415  0.40717956 -0.43562764  0.02238911  0.5270062 ]\n",
            " [ 0.52479297 -0.23352614  0.74080014 -0.5925749  -1.1940588 ]\n",
            " [-0.09918742  0.26019508  0.12526006 -0.46231267 -0.39642125]], shape=(5, 5), dtype=float32)\n"
          ]
        }
      ]
    },
    {
      "cell_type": "markdown",
      "source": [
        "- `split()`,`stack()`,`concatenate()` 함수"
      ],
      "metadata": {
        "id": "9O3N-cMGvVEa"
      }
    },
    {
      "cell_type": "code",
      "source": [
        ""
      ],
      "metadata": {
        "id": "xfGLWuYuvF7M"
      },
      "execution_count": null,
      "outputs": []
    }
  ]
}